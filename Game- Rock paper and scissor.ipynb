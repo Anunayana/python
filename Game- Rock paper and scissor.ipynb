{
 "cells": [
  {
   "cell_type": "code",
   "execution_count": 1,
   "metadata": {},
   "outputs": [
    {
     "name": "stdout",
     "output_type": "stream",
     "text": [
      "Comp Turn: Snake(s) Water(w) or Gun(g)?\n",
      "Your Turn: Snake(s) Water(w) or Gun(g)?s\n",
      "Computer chose: r\n",
      "you chose: s\n",
      "better luck next time\n"
     ]
    }
   ],
   "source": [
    "import random\n",
    "def game(comp,you):\n",
    "    if comp==you:\n",
    "        return None\n",
    "    elif comp=='r':\n",
    "        if you=='p':\n",
    "            return True\n",
    "        elif you=='s':\n",
    "            return False\n",
    "    elif comp=='p':\n",
    "        if you=='r':\n",
    "            return False\n",
    "        elif you=='s':\n",
    "            return True\n",
    "    elif comp=='s':\n",
    "        if you=='r':\n",
    "            return True\n",
    "        if you=='p':\n",
    "            return False\n",
    "print(\"Comp Turn: Snake(s) Water(w) or Gun(g)?\")\n",
    "randNo=random.randint(1,3)\n",
    "if randNo==1:\n",
    "    comp='r'\n",
    "elif randNo==2:\n",
    "    comp='p'\n",
    "elif randNo==3:\n",
    "    comp='s'\n",
    "you = input(\"Your Turn: Snake(s) Water(w) or Gun(g)?\")\n",
    "\n",
    "a=game(comp,you)\n",
    "\n",
    "print(f'Computer chose: {comp}')\n",
    "print(f'you chose: {you}')\n",
    "\n",
    "if a==None:\n",
    "    print(\"its tie\")\n",
    "elif a:\n",
    "    print(\"you win\")\n",
    "else:\n",
    "    print(\"better luck next time\")"
   ]
  },
  {
   "cell_type": "code",
   "execution_count": null,
   "metadata": {},
   "outputs": [],
   "source": []
  }
 ],
 "metadata": {
  "kernelspec": {
   "display_name": "Python 3",
   "language": "python",
   "name": "python3"
  },
  "language_info": {
   "codemirror_mode": {
    "name": "ipython",
    "version": 3
   },
   "file_extension": ".py",
   "mimetype": "text/x-python",
   "name": "python",
   "nbconvert_exporter": "python",
   "pygments_lexer": "ipython3",
   "version": "3.6.5"
  }
 },
 "nbformat": 4,
 "nbformat_minor": 2
}
